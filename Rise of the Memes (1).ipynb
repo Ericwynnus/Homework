{
 "cells": [
  {
   "cell_type": "markdown",
   "id": "1844f844",
   "metadata": {},
   "source": [
    "# RISE OF THE MEMES"
   ]
  },
  {
   "cell_type": "markdown",
   "id": "adf07b68",
   "metadata": {},
   "source": [
    "##  With thousands of cryptocurrency projects in development, project developers need something to make their projects unique and stand out from the others to attract society adoption and conversation. Dogecoin (a coin with a Shiba Inu as a mascot) would arise as the first of these coins that were meant not to be taken seriously, but were designed more to mock the attraction given to Bitcoin. Oddly, that fringe thought process would later take hold among others in society and Dodgecoin would gain a substantial following allowing it to become an accepted and utilized cryptocurrency. And, as history has demonstrated, \"success breeds imitation”.\n",
    "\n",
    "      "
   ]
  },
  {
   "cell_type": "markdown",
   "id": "cdfb6552",
   "metadata": {},
   "source": [
    "* The Shiba Inu Ecosytem. "
   ]
  },
  {
   "cell_type": "markdown",
   "id": "52dbe503",
   "metadata": {},
   "source": [
    "* The Shiba Inu Coin and Ecosystem project was launched in August of 2020. Promoted as the \"Dogecoin Killer\", the project utilizes a decentralized business model with a core team of anonymous developers overseeing the project.[^1]"
   ]
  },
  {
   "cell_type": "markdown",
   "id": "244641c9",
   "metadata": {},
   "source": [
    "* The project was founded by Ryoshi (a Japanese pseudonym that means \"fisherman\") along with other anonymous core developers. Employing a decentralized platform, the coin is open to outside developers to work on and execute applications and products that can work within the Shiba Inu Coin framework. This \"anonymous\" founder mimics that of Bitcoin's developer Satoshi.  [^2]"
   ]
  },
  {
   "cell_type": "markdown",
   "id": "70e1a603",
   "metadata": {},
   "source": [
    "* The company was funded by an anonymous group of developers, led by their leader, who refers to himself as  Ryoshi. The initial funding source has been kept secret, however, speculation is that Vitalek Buterin, one of the co-developers of the Ethereum blockchain was the source of these funds and that there is a personal connection between Buterin and Ryoshi. This speculation gained further traction when the Shiba Inu coin \"gifted\" Buterin 50% of their minted coins. Buterin would later donate a portion of these coins and \"burn\" the balance, reducing the number of coins in circulation. Buterin would note he was not familiar with the developers of the project and the coins were sent without his permission.[^3]"
   ]
  },
  {
   "cell_type": "markdown",
   "id": "570d1217",
   "metadata": {},
   "source": [
    "## Business Activites: "
   ]
  },
  {
   "cell_type": "markdown",
   "id": "0306edfc",
   "metadata": {},
   "source": [
    "* Shiba Inu Coin is in the process of developing a decentralized eco-system as a layer 2 protocol on the Ethereum network. At present the company has limited external operations as developers need time to build out their core infrastructure. The coin is traded on some major crypto-currency exchanges such as Coinbase and eToro. The coin has limited acceptance among retailers; the movie chain AMC has announced it will accept Shiba Inu coins as tender in the forthcoming months. Developers are currently working on a Non-fungible Trading marketplace, a meta-verse gaming world, and a decentralized exchange (ShibaSwap) where coins can be traded and/or staked.[^4]"
   ]
  },
  {
   "cell_type": "markdown",
   "id": "ec5e81f2",
   "metadata": {},
   "source": [
    "* The Shiba Inu coin lacks any specific business advantage; multiple companies are releasing non-fungible tokens, multiple exchanges are operating decentralized exchanges, the Ethereum network is currently plagued with high exchange (gas) fees which limits mass adoption, and multiple companies are announcing meta-verse game worlds. There is nothing that can prevent future companies and coin projects from developing the same things and taking part in the same business activities as the SHiba Inu coin developers are  engaging in and absorbing their market share and doing such on other platforms.[^5]"
   ]
  },
  {
   "cell_type": "markdown",
   "id": "f05f611b",
   "metadata": {},
   "source": [
    "* The Shiba Inu Coin, despite lacking any significant adoption and utilization, has found itself vaulted into a valuation in the billions (18.1 billion at the time of this writing) and now fluctuates within the top 15 of cryptocurrencies. This rocket ascend has confounded analysts who are just as perplexed by the ascent of Gamestop and AMC stocks on traditional market exchanges; these corporate values have risen not for their underlying performance or valuations, but on the backs of individuals who enjoy promoting counterculture.[^6]    "
   ]
  },
  {
   "cell_type": "markdown",
   "id": "ee68a1bf",
   "metadata": {},
   "source": [
    "## Landscape"
   ]
  },
  {
   "cell_type": "markdown",
   "id": "3dacb9da",
   "metadata": {},
   "source": [
    "* Shiba Inu Coin operates as a cryptocurrency. At the time of this writing, an estimated 12,000 cryptocurrencies are in development, yet only a fraction of these are trading on primary platforms such as Coinbase and Crypto.com. Trading platforms such as Coinbase, which allows the trading of the Shiba Inu coin, offer an investor a level of reassurance as the cryptocurrency project is 'vetted' prior to listing. The vetting of the coin project prior to listing offers an investor a certain degree to the authenticity of the project. The recent Squid Game Token scam (named for the Netflix series) was able to fleece investors for over $2.1 million before the creators cashed out causing the currency to collapse to zero.[^7]\n",
    "\n"
   ]
  },
  {
   "cell_type": "markdown",
   "id": "b7e30426",
   "metadata": {},
   "source": [
    "* Cryptocurrency projects, to include the Shiba Inu Coin project, lack protective moats to paraphrase legendary investor Warren Buffet. There are very limited barriers to entry that would prevent a team of developers from forming the next dog, cat, fluffy animal, or whatever the meme du jour inspires them. Intelligent and ambitious teams will continue to form up and will continue to create additional tokens. With each token created, launched and then pumped, other existing coins may lose market share as others seek to capture the moment of the surging new token. Additionally, other token projects can and will adopt similarities to the Shiba Inu Coin in an effort to peel of some of its adopters.The Shibantoken.com is one example of a knockoff that has adopted a similar name, similar graphics, and similar website characteristics as to the Shiba Inu Coin project. But, it is not related and thus could possibly draw marketshare from the Shiba Inu Coin project[^8]\n"
   ]
  },
  {
   "cell_type": "markdown",
   "id": "ec48cbbe",
   "metadata": {},
   "source": [
    "* For a cryptocurrency project to be successful three things need to occur; tribalism around the project to vocalize and generate excitement; personal adoption and faith in the project to invest one's wealth in it; and commercialization of commerce has to occur in order to utilize one's investment. Shiba Inu Coin currently has an estimated 1 million wallet holders. In comparison, Bitcoin wallet holders number around 200 million, along with insitituional investment and national (El Salvador) adoption taking place.[^9] "
   ]
  },
  {
   "cell_type": "markdown",
   "id": "0037d3dd",
   "metadata": {},
   "source": [
    "## Results"
   ]
  },
  {
   "cell_type": "markdown",
   "id": "61c198d8",
   "metadata": {},
   "source": [
    "*  With limited community adoption, limited personal use options and minimal commercial viability and acceptance, the Shiba Inu Coin project currently remains a fringe coin, adopted only by a small party of vocal supporters. This minority may not be enough to support further mainstream adoption and coin appreciation while other projects continue to develop and emerge within the marketplace. "
   ]
  },
  {
   "cell_type": "markdown",
   "id": "07e720dd",
   "metadata": {},
   "source": [
    "## Recomendations"
   ]
  },
  {
   "cell_type": "markdown",
   "id": "f7036b7d",
   "metadata": {},
   "source": [
    "* One should exercise great caution in investing in the Shiba Inu Coin project. While the developers are presenting a roadmap to success, this roadmap is one being circulated among many other entities and one that is being copied and replayed. The Project does not yet solve any specific use cases; provide any unique feature; and lacks any protective barrier to competition. The continued use of anonymous core developers should be taken as a sign of caution as it invites speculation and the inability to perform additional due diligence on the primary principles.  "
   ]
  },
  {
   "cell_type": "markdown",
   "id": "8f084a14",
   "metadata": {},
   "source": [
    "## References"
   ]
  },
  {
   "cell_type": "markdown",
   "id": "2e4da05c",
   "metadata": {},
   "source": [
    "[^1] [Shiba Inu White Paper](http://shiba.limited/whitepaper.pdf)"
   ]
  },
  {
   "cell_type": "markdown",
   "id": "fa1914da",
   "metadata": {},
   "source": [
    "[^2] [Shiba Inu White Paper](http://shiba.limited/whitepaper.pdf)"
   ]
  },
  {
   "cell_type": "markdown",
   "id": "617a1d12",
   "metadata": {},
   "source": [
    "[^3] [Coinbureau](https://www.coinbureau.com/review/shiba-inu/)"
   ]
  },
  {
   "cell_type": "markdown",
   "id": "f818f58e",
   "metadata": {},
   "source": [
    "[^4] [Shiba Inu White Paper](http://shiba.limited/whitepaper.pdf)"
   ]
  },
  {
   "cell_type": "markdown",
   "id": "d0691e7a",
   "metadata": {},
   "source": [
    "[^5] [Motley Fool: 5 Reasons Shiba Inu is the Most Dangerous Cryptocurrency to Own](https://www.msn.com/en-us/money/savingandinvesting/5-reasons-shiba-inu-is-the-most-dangerous-cryptocurrency-to-own/ar-AARhVks?ocid=uxbndlbing)"
   ]
  },
  {
   "cell_type": "markdown",
   "id": "42027b9f",
   "metadata": {},
   "source": [
    "[^6] [Fortune Magazine](https://fortune.com/2021/10/27/shiba-inu-coin-price-robinhood-staying-power-meme-use-case-future/#:~:text=Shiba%20Inu%E2%80%99s%20market%20cap%20is%20now%20%2427%20billion%2C,ninth%20largest%20coin%2C%20worth%20an%20estimated%20%2434%20billion)"
   ]
  },
  {
   "cell_type": "markdown",
   "id": "5f238e67",
   "metadata": {},
   "source": [
    "[^7] [Coinbase](www.coinbase/price/shiba-inu)"
   ]
  },
  {
   "cell_type": "markdown",
   "id": "c8864484",
   "metadata": {},
   "source": [
    "[^8] [Shiban Token](www.Shibantoken.com)"
   ]
  },
  {
   "cell_type": "markdown",
   "id": "7871ac57",
   "metadata": {},
   "source": [
    "[^9][New York Times](https://www.nytimes.com/2021/09/07/world/americas/el-salvador-bitcoin.html) "
   ]
  }
 ],
 "metadata": {
  "kernelspec": {
   "display_name": "Python 3",
   "language": "python",
   "name": "python3"
  },
  "language_info": {
   "codemirror_mode": {
    "name": "ipython",
    "version": 3
   },
   "file_extension": ".py",
   "mimetype": "text/x-python",
   "name": "python",
   "nbconvert_exporter": "python",
   "pygments_lexer": "ipython3",
   "version": "3.8.8"
  }
 },
 "nbformat": 4,
 "nbformat_minor": 5
}
